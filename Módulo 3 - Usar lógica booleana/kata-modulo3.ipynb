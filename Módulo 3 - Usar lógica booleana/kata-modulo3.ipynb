{
 "cells": [
  {
   "cell_type": "markdown",
   "metadata": {},
   "source": [
    "# Ejercicio - Escribir declaraciones if, else, y elif"
   ]
  },
  {
   "cell_type": "markdown",
   "metadata": {},
   "source": [
    "Para este ejercicio, escribirás una lógica condicional que imprima una advertencia si un asteroide se acerca a la Tierra demasiado rápido. La velocidad del asteroide varía dependiendo de lo cerca que esté del sol, y cualquier velocidad superior a 25 kilómetros por segundo (km/s) merece una advertencia.\n",
    "\n",
    "Un asteroide se acerca, y viaja a una velocidad de 49 km/s."
   ]
  },
  {
   "cell_type": "code",
   "execution_count": 7,
   "metadata": {},
   "outputs": [
    {
     "name": "stdout",
     "output_type": "stream",
     "text": [
      "¡Advertencia! Un asteroide se está acercando y viaja a una velocidad de 65 km/s\n"
     ]
    }
   ],
   "source": [
    "# Añadir el código necesario para crear una variable que guarde la velocidad del asteroide.\n",
    "# Escribe una expresión de prueba para calcular si necesita una advertencia.\n",
    "# Agregue las instrucciones que se ejecutarán si la expresión de prueba es true o false.\n",
    "\n",
    "asteroide = 65\n",
    "if asteroide > 25:\n",
    "    print(\"¡Advertencia! Un asteroide se está acercando y viaja a una velocidad de \" + str(asteroide) + \" km/s\")\n",
    "else:\n",
    "    print(\"¡No hay alertas!, te mantendremos al tanto\")"
   ]
  },
  {
   "cell_type": "code",
   "execution_count": 9,
   "metadata": {},
   "outputs": [
    {
     "name": "stdout",
     "output_type": "stream",
     "text": [
      "¡No hay alertas! te mantendremos al tanto\n"
     ]
    }
   ],
   "source": [
    "asteroide = 10\n",
    "if asteroide > 25:\n",
    "    print(\"¡Advertencia! Un asteroide se está acercando y viaja a una velocidad de \" + str(asteroide) + \" km/s\")\n",
    "else:\n",
    "    print(\"¡No hay alertas! te mantendremos al tanto\")"
   ]
  },
  {
   "cell_type": "markdown",
   "metadata": {},
   "source": [
    "Si un asteroide entra en la atmósfera de la Tierra a una velocidad mayor o igual a 20 km/s, a veces produce un rayo de luz que se puede ver desde la Tierra. Escribe la lógica condicional que usa declaraciones if, else, y elif para alertar a las personas de todo el mundo que deben buscar un asteroide en el cielo. ¡Hay uno que se dirige a la tierra ahora a una velocidad de 19 km/s!"
   ]
  },
  {
   "cell_type": "code",
   "execution_count": 34,
   "metadata": {},
   "outputs": [
    {
     "name": "stdout",
     "output_type": "stream",
     "text": [
      "Taket it easy! No hay alertas por el momento\n"
     ]
    }
   ],
   "source": [
    "# Agrega el código para crear una variable para un asteroide que viaja a 19 km/s\n",
    "# Escribe varias expresiones de prueba para determinar si puedes ver el rayo de luz desde la tierra\n",
    "# Agrega las instrucciones que se ejecutarán si las expresiones de prueba son True o False\n",
    "\n",
    "asteroide = 19\n",
    "if asteroide > 20:\n",
    "    print(\"Mira arriba y verás el destello de un asteroide\")\n",
    "elif asteroide == 20:\n",
    "    print(\"Mira arriba y verás el destello de un asteroide\")\n",
    "else:\n",
    "    print(\"Taket it easy! No hay alertas por el momento\")"
   ]
  },
  {
   "cell_type": "code",
   "execution_count": 35,
   "metadata": {},
   "outputs": [
    {
     "name": "stdout",
     "output_type": "stream",
     "text": [
      "Mira arriba y verás el destello de un asteroide\n"
     ]
    }
   ],
   "source": [
    "asteroide = 20\n",
    "if asteroide > 20:\n",
    "    print(\"Mira arriba y verás el destello de un asteroide\")\n",
    "elif asteroide == 20:\n",
    "    print(\"Mira arriba y verás el destello de un asteroide\")\n",
    "else:\n",
    "    print(\"Taket it easy! No hay alertas por el momento\")"
   ]
  },
  {
   "cell_type": "code",
   "execution_count": 36,
   "metadata": {},
   "outputs": [
    {
     "name": "stdout",
     "output_type": "stream",
     "text": [
      "Mira arriba y verás el destello de un asteroide\n"
     ]
    }
   ],
   "source": [
    "asteroide = 35\n",
    "if asteroide > 20:\n",
    "    print(\"Mira arriba y verás el destello de un asteroide\")\n",
    "elif asteroide == 20:\n",
    "    print(\"Mira arriba y verás el destello de un asteroide\")\n",
    "else:\n",
    "    print(\"Taket it easy! No hay alertas por el momento\")"
   ]
  },
  {
   "cell_type": "markdown",
   "metadata": {},
   "source": [
    "# Ejercicio: Uso de operadores and y or"
   ]
  },
  {
   "cell_type": "markdown",
   "metadata": {},
   "source": [
    "Escribe un programa que emita la advertencia o información correcta a la gente de la Tierra, según la velocidad y el tamaño de un asteroide. Utiliza instrucciones if, else, y elif, así como los operadores and y or"
   ]
  },
  {
   "cell_type": "code",
   "execution_count": 41,
   "metadata": {},
   "outputs": [
    {
     "name": "stdout",
     "output_type": "stream",
     "text": [
      "¡Advertencia! Un asteroide se está acercando y viaja a una velocidad de 40 km/s con un tamaño de 120 metros\n"
     ]
    }
   ],
   "source": [
    "# Agrega el código para crear nuevas variables para la velocidad y el tamaño del asteroide\n",
    "# Para probar el código, prueba con varias velocidades y tamaños\n",
    "# Escribe varias expresiones de prueba o combinaciones de expresiones de prueba para determinar qué mensaje se debe enviar a Tierra.\n",
    "\n",
    "velocidad_aste = 40\n",
    "tamano_aste = 120\n",
    "if velocidad_aste > 25 and tamano_aste > 25:\n",
    "    print(\"¡Advertencia! Un asteroide se está acercando y viaja a una velocidad de \" + str(velocidad_aste) + \" km/s con un tamaño de \" + str(tamano_aste) + \" metros\")\n",
    "elif velocidad_aste >= 20:\n",
    "    print(\"Mira arriba y verás el destello de un asteroide\")\n",
    "elif tamano_aste < 25:\n",
    "    print(\"Taket it easy! No hay alertas por el momento\")\n",
    "else:\n",
    "    print(\"Taket it easy! No hay alertas por el momento\")\n"
   ]
  },
  {
   "cell_type": "code",
   "execution_count": 40,
   "metadata": {},
   "outputs": [
    {
     "name": "stdout",
     "output_type": "stream",
     "text": [
      "Mira arriba y verás el destello de un asteroide\n"
     ]
    }
   ],
   "source": [
    "velocidad_aste = 23\n",
    "tamano_aste = 24\n",
    "if velocidad_aste > 25 and tamano_aste > 25:\n",
    "    print(\"¡Advertencia! Un asteroide se está acercando y viaja a una velocidad de \" + str(velocidad_aste) + \" km/s con un tamaño de \" + str(tamano_aste) + \" metros\")\n",
    "elif velocidad_aste >= 20:\n",
    "    print(\"Mira arriba y verás el destello de un asteroide\")\n",
    "elif tamano_aste < 25:\n",
    "    print(\"Taket it easy! No hay alertas por el momento\")\n",
    "else:\n",
    "    print(\"Taket it easy! No hay alertas por el momento\")"
   ]
  }
 ],
 "metadata": {
  "interpreter": {
   "hash": "2dc541575c2549f11ad24dd2f4e05ff47223fbb94b62196dc98b619087f7f9e8"
  },
  "kernelspec": {
   "display_name": "Python 3.10.2 64-bit (windows store)",
   "language": "python",
   "name": "python3"
  },
  "language_info": {
   "codemirror_mode": {
    "name": "ipython",
    "version": 3
   },
   "file_extension": ".py",
   "mimetype": "text/x-python",
   "name": "python",
   "nbconvert_exporter": "python",
   "pygments_lexer": "ipython3",
   "version": "3.10.2"
  },
  "orig_nbformat": 4
 },
 "nbformat": 4,
 "nbformat_minor": 2
}
